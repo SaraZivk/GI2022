{
 "cells": [
  {
   "cell_type": "markdown",
   "metadata": {},
   "source": [
    "Sara Zivkovic 2021/3285\n",
    "\n",
    "Instaliran je i paket samtools.\n",
    "\n",
    "Pre pokretanja koda je izvrseno:\n",
    "\n",
    " --samtools sort merged-tumor.bam > sorted_merged-tumor.bai\n",
    "\n",
    " --samtools index sorted_merged-tumor.bam\n"
   ]
  },
  {
   "cell_type": "code",
   "execution_count": 1,
   "metadata": {},
   "outputs": [],
   "source": [
    "import pysam\n",
    "\n",
    "file = pysam.AlignmentFile(\"sorted_merged-tumor.bam\", \"rb\")"
   ]
  },
  {
   "cell_type": "code",
   "execution_count": 2,
   "metadata": {},
   "outputs": [
    {
     "name": "stdout",
     "output_type": "stream",
     "text": [
      "C0HVYACXX120402:7:1207:5722:57044\t1187\t#20\t9483249\t27\t76M\t#20\t9483382\t209\tTTTTCAAACAGTATCTATGCCTGCCAAATGTGAACATATAAAAAAAAACCAGAATGTGCCATTCTGATTTAAACTG\tarray('B', [28, 28, 27, 29, 31, 30, 31, 31, 29, 31, 35, 30, 29, 31, 34, 30, 29, 23, 41, 32, 20, 30, 29, 34, 34, 29, 30, 31, 30, 30, 30, 33, 33, 26, 39, 12, 25, 19, 32, 30, 35, 28, 35, 33, 23, 33, 35, 36, 30, 38, 33, 41, 34, 35, 31, 33, 23, 30, 30, 36, 27, 32, 29, 34, 35, 41, 33, 31, 33, 29, 32, 32, 31, 31, 31, 34])\t[('XA', 'GL000217.1,-110754,76M,1;'), ('BD', 'NNNNNNNNNNNNNNNNNNNNNNNNNNNNNNNNNNNNNNNNNNNNNNNNNNNNNNNNNNNNNNNNNNNNNNNNNNNN'), ('MD', '76'), ('RG', '1'), ('BI', 'NNNNNNNNNNNNNNNNNNNNNNNNNNNNNNNNNNNNNNNNNNNNNNNNNNNNNNNNNNNNNNNNNNNNNNNNNNNN'), ('NM', 0), ('MQ', 27), ('AS', 76), ('XS', 71)]\n"
     ]
    }
   ],
   "source": [
    "for read in file.fetch():\n",
    "    print(read)\n",
    "    break"
   ]
  },
  {
   "cell_type": "code",
   "execution_count": 3,
   "metadata": {},
   "outputs": [
    {
     "name": "stdout",
     "output_type": "stream",
     "text": [
      "[('XA', 'GL000217.1,-110754,76M,1;'), ('BD', 'NNNNNNNNNNNNNNNNNNNNNNNNNNNNNNNNNNNNNNNNNNNNNNNNNNNNNNNNNNNNNNNNNNNNNNNNNNNN'), ('MD', '76'), ('RG', '1'), ('BI', 'NNNNNNNNNNNNNNNNNNNNNNNNNNNNNNNNNNNNNNNNNNNNNNNNNNNNNNNNNNNNNNNNNNNNNNNNNNNN'), ('NM', 0), ('MQ', 27), ('AS', 76), ('XS', 71)]\n"
     ]
    }
   ],
   "source": [
    "print(read.get_tags())"
   ]
  },
  {
   "cell_type": "code",
   "execution_count": 4,
   "metadata": {},
   "outputs": [
    {
     "name": "stdout",
     "output_type": "stream",
     "text": [
      "1187\n",
      "163\n",
      "99\n"
     ]
    }
   ],
   "source": [
    "i = 0\n",
    "for read in file.fetch():\n",
    "    print(read.flag)\n",
    "    i += 1\n",
    "    if i == 3:\n",
    "        break"
   ]
  },
  {
   "cell_type": "raw",
   "metadata": {},
   "source": [
    "flag = 1187 znaci:\n",
    "    \n",
    "    read paired \n",
    "    read mapped in proper pair \n",
    "    mate reverse strand \n",
    "    second in pair \n",
    "    read is PCR or optical duplicate \n",
    "    \n",
    "flag = 163 znaci:\n",
    "    \n",
    "    read paired\n",
    "    read mapped in proper pair \n",
    "    mate reverse strand \n",
    "    second in pair \n",
    "\n",
    "flag = 99 znaci:\n",
    "    \n",
    "    read paired \n",
    "    read mapped in proper pair \n",
    "    mate reverse strand \n",
    "    first in pair"
   ]
  },
  {
   "cell_type": "code",
   "execution_count": 6,
   "metadata": {},
   "outputs": [
    {
     "name": "stdout",
     "output_type": "stream",
     "text": [
      "total number of reads = 2921629\n",
      "number of unmapped reads = 17765\n",
      "number of reads with mapping quality 0 = 126628\n",
      "Average mapping quality for all the reads = 55.91379158681681\n",
      "if reads with 0 mapp quality are filtered out = 58.446975510921106\n"
     ]
    }
   ],
   "source": [
    "unm = 0 # number of unmapped reads\n",
    "total = 0 # total number of reads\n",
    "qual = 0 # number of reads with mapping quality 0\n",
    "avg_qual = 0 # Average mapping quality for all the reads\n",
    "avg_qual_no_zero = 0 # if reads with 0 mapp quality are filtered out\n",
    "\n",
    "for read in file.fetch():\n",
    "    total += 1\n",
    "    if read.is_unmapped:\n",
    "        unm += 1\n",
    "    if read.mapping_quality == 0:\n",
    "        qual += 1\n",
    "    avg_qual += read.mapping_quality\n",
    "    \n",
    "avg_qual_no_zero = avg_qual / (total - qual)\n",
    "avg_qual /= total\n",
    "print('total number of reads = ' + str(total))\n",
    "print('number of unmapped reads = ' + str(unm))\n",
    "print('number of reads with mapping quality 0 = ' + str(qual))\n",
    "print('Average mapping quality for all the reads = ' + str(avg_qual))\n",
    "print('if reads with 0 mapp quality are filtered out = ' + str(avg_qual_no_zero))"
   ]
  },
  {
   "cell_type": "code",
   "execution_count": null,
   "metadata": {},
   "outputs": [],
   "source": []
  }
 ],
 "metadata": {
  "kernelspec": {
   "display_name": "Python 3",
   "language": "python",
   "name": "python3"
  },
  "language_info": {
   "codemirror_mode": {
    "name": "ipython",
    "version": 3
   },
   "file_extension": ".py",
   "mimetype": "text/x-python",
   "name": "python",
   "nbconvert_exporter": "python",
   "pygments_lexer": "ipython3",
   "version": "3.8.10"
  }
 },
 "nbformat": 4,
 "nbformat_minor": 4
}
